{
  "cells": [
    {
      "cell_type": "markdown",
      "source": [
        "# Clustering\n",
        "\n",
        "## Fitting two models and then pick the best model based on the Davies Bouldin index"
      ],
      "metadata": {
        "nteract": {
          "transient": {
            "deleting": false
          }
        }
      }
    },
    {
      "cell_type": "code",
      "source": [
        "import pandas as pd"
      ],
      "outputs": [],
      "execution_count": 1,
      "metadata": {
        "gather": {
          "logged": 1711354684441
        }
      }
    },
    {
      "cell_type": "code",
      "source": [
        "# Load the data frame\n",
        "tfidf_matrix= pd.read_csv('tf_idf.csv')\n",
        "# Drop redundant index column\n",
        "tfidf_matrix.drop('Unnamed: 0', axis =1, inplace = True)\n",
        "tfidf_matrix"
      ],
      "outputs": [
        {
          "output_type": "execute_result",
          "execution_count": 2,
          "data": {
            "text/plain": "               10   3d   account  accuracy  action  addition  agent   ai  \\\n0        0.000000  0.0  0.000000  0.120878     0.0       0.0    0.0  0.0   \n1        0.000000  0.0  0.000000  0.000000     0.0       0.0    0.0  0.0   \n2        0.200543  0.0  0.000000  0.000000     0.0       0.0    0.0  0.0   \n3        0.000000  0.0  0.000000  0.000000     0.0       0.0    0.0  0.0   \n4        0.000000  0.0  0.000000  0.000000     0.0       0.0    0.0  0.0   \n...           ...  ...       ...       ...     ...       ...    ...  ...   \n2431230  0.000000  0.0  0.000000  0.000000     0.0       0.0    0.0  0.0   \n2431231  0.000000  0.0  0.000000  0.000000     0.0       0.0    0.0  0.0   \n2431232  0.000000  0.0  0.092492  0.000000     0.0       0.0    0.0  0.0   \n2431233  0.000000  0.0  0.000000  0.000000     0.0       0.0    0.0  0.0   \n2431234  0.000000  0.0  0.000000  0.000000     0.0       0.0    0.0  0.0   \n\n         algebra  algorithm  ...  via      wave  way  weak      well  within  \\\n0            0.0   0.000000  ...  0.0  0.000000  0.0   0.0  0.085752     0.0   \n1            0.0   0.326318  ...  0.0  0.000000  0.0   0.0  0.000000     0.0   \n2            0.0   0.000000  ...  0.0  0.000000  0.0   0.0  0.077948     0.0   \n3            0.0   0.000000  ...  0.0  0.000000  0.0   0.0  0.000000     0.0   \n4            0.0   0.000000  ...  0.0  0.000000  0.0   0.0  0.000000     0.0   \n...          ...        ...  ...  ...       ...  ...   ...       ...     ...   \n2431230      0.0   0.000000  ...  0.0  0.000000  0.0   0.0  0.000000     0.0   \n2431231      0.0   0.000000  ...  0.0  0.000000  0.0   0.0  0.000000     0.0   \n2431232      0.0   0.000000  ...  0.0  0.000000  0.0   0.0  0.000000     0.0   \n2431233      0.0   0.000000  ...  0.0  0.000000  0.0   0.0  0.000000     0.0   \n2431234      0.0   0.000000  ...  0.0  0.325152  0.0   0.0  0.000000     0.0   \n\n          without      work  world  zero  \n0        0.000000  0.000000    0.0   0.0  \n1        0.000000  0.097766    0.0   0.0  \n2        0.000000  0.000000    0.0   0.0  \n3        0.000000  0.000000    0.0   0.0  \n4        0.000000  0.000000    0.0   0.0  \n...           ...       ...    ...   ...  \n2431230  0.212551  0.000000    0.0   0.0  \n2431231  0.000000  0.000000    0.0   0.0  \n2431232  0.000000  0.000000    0.0   0.0  \n2431233  0.000000  0.000000    0.0   0.0  \n2431234  0.000000  0.000000    0.0   0.0  \n\n[2431235 rows x 500 columns]",
            "text/html": "<div>\n<style scoped>\n    .dataframe tbody tr th:only-of-type {\n        vertical-align: middle;\n    }\n\n    .dataframe tbody tr th {\n        vertical-align: top;\n    }\n\n    .dataframe thead th {\n        text-align: right;\n    }\n</style>\n<table border=\"1\" class=\"dataframe\">\n  <thead>\n    <tr style=\"text-align: right;\">\n      <th></th>\n      <th>10</th>\n      <th>3d</th>\n      <th>account</th>\n      <th>accuracy</th>\n      <th>action</th>\n      <th>addition</th>\n      <th>agent</th>\n      <th>ai</th>\n      <th>algebra</th>\n      <th>algorithm</th>\n      <th>...</th>\n      <th>via</th>\n      <th>wave</th>\n      <th>way</th>\n      <th>weak</th>\n      <th>well</th>\n      <th>within</th>\n      <th>without</th>\n      <th>work</th>\n      <th>world</th>\n      <th>zero</th>\n    </tr>\n  </thead>\n  <tbody>\n    <tr>\n      <th>0</th>\n      <td>0.000000</td>\n      <td>0.0</td>\n      <td>0.000000</td>\n      <td>0.120878</td>\n      <td>0.0</td>\n      <td>0.0</td>\n      <td>0.0</td>\n      <td>0.0</td>\n      <td>0.0</td>\n      <td>0.000000</td>\n      <td>...</td>\n      <td>0.0</td>\n      <td>0.000000</td>\n      <td>0.0</td>\n      <td>0.0</td>\n      <td>0.085752</td>\n      <td>0.0</td>\n      <td>0.000000</td>\n      <td>0.000000</td>\n      <td>0.0</td>\n      <td>0.0</td>\n    </tr>\n    <tr>\n      <th>1</th>\n      <td>0.000000</td>\n      <td>0.0</td>\n      <td>0.000000</td>\n      <td>0.000000</td>\n      <td>0.0</td>\n      <td>0.0</td>\n      <td>0.0</td>\n      <td>0.0</td>\n      <td>0.0</td>\n      <td>0.326318</td>\n      <td>...</td>\n      <td>0.0</td>\n      <td>0.000000</td>\n      <td>0.0</td>\n      <td>0.0</td>\n      <td>0.000000</td>\n      <td>0.0</td>\n      <td>0.000000</td>\n      <td>0.097766</td>\n      <td>0.0</td>\n      <td>0.0</td>\n    </tr>\n    <tr>\n      <th>2</th>\n      <td>0.200543</td>\n      <td>0.0</td>\n      <td>0.000000</td>\n      <td>0.000000</td>\n      <td>0.0</td>\n      <td>0.0</td>\n      <td>0.0</td>\n      <td>0.0</td>\n      <td>0.0</td>\n      <td>0.000000</td>\n      <td>...</td>\n      <td>0.0</td>\n      <td>0.000000</td>\n      <td>0.0</td>\n      <td>0.0</td>\n      <td>0.077948</td>\n      <td>0.0</td>\n      <td>0.000000</td>\n      <td>0.000000</td>\n      <td>0.0</td>\n      <td>0.0</td>\n    </tr>\n    <tr>\n      <th>3</th>\n      <td>0.000000</td>\n      <td>0.0</td>\n      <td>0.000000</td>\n      <td>0.000000</td>\n      <td>0.0</td>\n      <td>0.0</td>\n      <td>0.0</td>\n      <td>0.0</td>\n      <td>0.0</td>\n      <td>0.000000</td>\n      <td>...</td>\n      <td>0.0</td>\n      <td>0.000000</td>\n      <td>0.0</td>\n      <td>0.0</td>\n      <td>0.000000</td>\n      <td>0.0</td>\n      <td>0.000000</td>\n      <td>0.000000</td>\n      <td>0.0</td>\n      <td>0.0</td>\n    </tr>\n    <tr>\n      <th>4</th>\n      <td>0.000000</td>\n      <td>0.0</td>\n      <td>0.000000</td>\n      <td>0.000000</td>\n      <td>0.0</td>\n      <td>0.0</td>\n      <td>0.0</td>\n      <td>0.0</td>\n      <td>0.0</td>\n      <td>0.000000</td>\n      <td>...</td>\n      <td>0.0</td>\n      <td>0.000000</td>\n      <td>0.0</td>\n      <td>0.0</td>\n      <td>0.000000</td>\n      <td>0.0</td>\n      <td>0.000000</td>\n      <td>0.000000</td>\n      <td>0.0</td>\n      <td>0.0</td>\n    </tr>\n    <tr>\n      <th>...</th>\n      <td>...</td>\n      <td>...</td>\n      <td>...</td>\n      <td>...</td>\n      <td>...</td>\n      <td>...</td>\n      <td>...</td>\n      <td>...</td>\n      <td>...</td>\n      <td>...</td>\n      <td>...</td>\n      <td>...</td>\n      <td>...</td>\n      <td>...</td>\n      <td>...</td>\n      <td>...</td>\n      <td>...</td>\n      <td>...</td>\n      <td>...</td>\n      <td>...</td>\n      <td>...</td>\n    </tr>\n    <tr>\n      <th>2431230</th>\n      <td>0.000000</td>\n      <td>0.0</td>\n      <td>0.000000</td>\n      <td>0.000000</td>\n      <td>0.0</td>\n      <td>0.0</td>\n      <td>0.0</td>\n      <td>0.0</td>\n      <td>0.0</td>\n      <td>0.000000</td>\n      <td>...</td>\n      <td>0.0</td>\n      <td>0.000000</td>\n      <td>0.0</td>\n      <td>0.0</td>\n      <td>0.000000</td>\n      <td>0.0</td>\n      <td>0.212551</td>\n      <td>0.000000</td>\n      <td>0.0</td>\n      <td>0.0</td>\n    </tr>\n    <tr>\n      <th>2431231</th>\n      <td>0.000000</td>\n      <td>0.0</td>\n      <td>0.000000</td>\n      <td>0.000000</td>\n      <td>0.0</td>\n      <td>0.0</td>\n      <td>0.0</td>\n      <td>0.0</td>\n      <td>0.0</td>\n      <td>0.000000</td>\n      <td>...</td>\n      <td>0.0</td>\n      <td>0.000000</td>\n      <td>0.0</td>\n      <td>0.0</td>\n      <td>0.000000</td>\n      <td>0.0</td>\n      <td>0.000000</td>\n      <td>0.000000</td>\n      <td>0.0</td>\n      <td>0.0</td>\n    </tr>\n    <tr>\n      <th>2431232</th>\n      <td>0.000000</td>\n      <td>0.0</td>\n      <td>0.092492</td>\n      <td>0.000000</td>\n      <td>0.0</td>\n      <td>0.0</td>\n      <td>0.0</td>\n      <td>0.0</td>\n      <td>0.0</td>\n      <td>0.000000</td>\n      <td>...</td>\n      <td>0.0</td>\n      <td>0.000000</td>\n      <td>0.0</td>\n      <td>0.0</td>\n      <td>0.000000</td>\n      <td>0.0</td>\n      <td>0.000000</td>\n      <td>0.000000</td>\n      <td>0.0</td>\n      <td>0.0</td>\n    </tr>\n    <tr>\n      <th>2431233</th>\n      <td>0.000000</td>\n      <td>0.0</td>\n      <td>0.000000</td>\n      <td>0.000000</td>\n      <td>0.0</td>\n      <td>0.0</td>\n      <td>0.0</td>\n      <td>0.0</td>\n      <td>0.0</td>\n      <td>0.000000</td>\n      <td>...</td>\n      <td>0.0</td>\n      <td>0.000000</td>\n      <td>0.0</td>\n      <td>0.0</td>\n      <td>0.000000</td>\n      <td>0.0</td>\n      <td>0.000000</td>\n      <td>0.000000</td>\n      <td>0.0</td>\n      <td>0.0</td>\n    </tr>\n    <tr>\n      <th>2431234</th>\n      <td>0.000000</td>\n      <td>0.0</td>\n      <td>0.000000</td>\n      <td>0.000000</td>\n      <td>0.0</td>\n      <td>0.0</td>\n      <td>0.0</td>\n      <td>0.0</td>\n      <td>0.0</td>\n      <td>0.000000</td>\n      <td>...</td>\n      <td>0.0</td>\n      <td>0.325152</td>\n      <td>0.0</td>\n      <td>0.0</td>\n      <td>0.000000</td>\n      <td>0.0</td>\n      <td>0.000000</td>\n      <td>0.000000</td>\n      <td>0.0</td>\n      <td>0.0</td>\n    </tr>\n  </tbody>\n</table>\n<p>2431235 rows × 500 columns</p>\n</div>"
          },
          "metadata": {}
        }
      ],
      "execution_count": 2,
      "metadata": {
        "jupyter": {
          "source_hidden": false,
          "outputs_hidden": false
        },
        "nteract": {
          "transient": {
            "deleting": false
          }
        },
        "gather": {
          "logged": 1711354825012
        }
      }
    },
    {
      "cell_type": "code",
      "source": [
        "from sklearn.cluster import KMeans, MiniBatchKMeans\n",
        "from sklearn.metrics import davies_bouldin_score\n",
        "\n",
        "# Optimal number of clusters from silhouette score and the elbow method\n",
        "n_clusters = 13"
      ],
      "outputs": [],
      "execution_count": 3,
      "metadata": {
        "jupyter": {
          "source_hidden": false,
          "outputs_hidden": false
        },
        "nteract": {
          "transient": {
            "deleting": false
          }
        },
        "gather": {
          "logged": 1711354829344
        }
      }
    },
    {
      "cell_type": "code",
      "source": [
        "# Initialize KMeans\n",
        "kmeans = KMeans(init='k-means++' , n_clusters=n_clusters, random_state=42)\n",
        "kmeans_clusters = kmeans.fit_predict(tfidf_matrix)"
      ],
      "outputs": [
        {
          "output_type": "stream",
          "name": "stderr",
          "text": "/anaconda/envs/azureml_py310_sdkv2/lib/python3.10/site-packages/sklearn/cluster/_kmeans.py:870: FutureWarning: The default value of `n_init` will change from 10 to 'auto' in 1.4. Set the value of `n_init` explicitly to suppress the warning\n  warnings.warn(\n"
        }
      ],
      "execution_count": 4,
      "metadata": {
        "jupyter": {
          "source_hidden": false,
          "outputs_hidden": false
        },
        "nteract": {
          "transient": {
            "deleting": false
          }
        },
        "gather": {
          "logged": 1711355239237
        }
      }
    },
    {
      "cell_type": "code",
      "source": [
        "\"\"\" MiniBatchKMeans is an alternative for KMeans used for massive datasets\n",
        "\"\"\"\n",
        "# Initialize MiniBatchKMeans\n",
        "minibatch_kmeans = MiniBatchKMeans(n_clusters=n_clusters, random_state=42)\n",
        "minibatch_kmeans_clusters = minibatch_kmeans.fit_predict(tfidf_matrix)"
      ],
      "outputs": [
        {
          "output_type": "stream",
          "name": "stderr",
          "text": "/anaconda/envs/azureml_py310_sdkv2/lib/python3.10/site-packages/sklearn/cluster/_kmeans.py:870: FutureWarning: The default value of `n_init` will change from 3 to 'auto' in 1.4. Set the value of `n_init` explicitly to suppress the warning\n  warnings.warn(\n"
        }
      ],
      "execution_count": 5,
      "metadata": {
        "jupyter": {
          "source_hidden": false,
          "outputs_hidden": false
        },
        "nteract": {
          "transient": {
            "deleting": false
          }
        },
        "gather": {
          "logged": 1711355256211
        }
      }
    },
    {
      "cell_type": "code",
      "source": [
        "# Calculate Davies Bouldin Index for each model\n",
        "db_score_kmeans = davies_bouldin_score(tfidf_matrix, kmeans_clusters)\n",
        "db_score_minibatch_kmeans = davies_bouldin_score(tfidf_matrix, minibatch_kmeans_clusters)\n",
        "\n",
        "print(\"Davies Bouldin Index:\")\n",
        "print(\"KMeans:\", db_score_kmeans)\n",
        "print(\"Davies Bouldin Index (MiniBatchKMeans):\", db_score_minibatch_kmeans)"
      ],
      "outputs": [
        {
          "output_type": "stream",
          "name": "stdout",
          "text": "Davies Bouldin Index:\nKMeans: 5.3309853037014765\nDavies Bouldin Index (MiniBatchKMeans): 5.732249244927979\n"
        }
      ],
      "execution_count": 6,
      "metadata": {
        "jupyter": {
          "source_hidden": false,
          "outputs_hidden": false
        },
        "nteract": {
          "transient": {
            "deleting": false
          }
        },
        "gather": {
          "logged": 1711355338679
        }
      }
    },
    {
      "cell_type": "markdown",
      "source": [
        "#### Based on the Davies Bouldin Index KMeans is better than MiniBatchKMeans"
      ],
      "metadata": {
        "nteract": {
          "transient": {
            "deleting": false
          }
        }
      }
    },
    {
      "cell_type": "code",
      "source": [
        "df = pd.read_csv('df_cleaned2.csv')\n",
        "\n",
        "# Drop redundant index column\n",
        "df.drop('Unnamed: 0', axis =1, inplace = True)\n",
        "\n",
        "df"
      ],
      "outputs": [
        {
          "output_type": "execute_result",
          "execution_count": 7,
          "data": {
            "text/plain": "                                             cleaned_title  \\\n0        calculation prompt diphoton production cross s...   \n1                  sparsity-certifying graph decomposition   \n2        evolution earth-moon system based dark matter ...   \n3        determinant stirling cycle number count unlabe...   \n4                 dyadic  lambda  alpha    lambda  alpha     \n...                                                    ...   \n2431230  origin irreversibility line thin ybacuo7 film ...   \n2431231  nonlinear response htsc thin film microwave re...   \n2431232  critical state flux penetration linear microwa...   \n2431233  density state nmr relaxation rate anisotropic ...   \n2431234  ginzburg landau theory d-wave pairing fourfold...   \n\n                                          cleaned_abstract  \\\n0        fully differential calculation perturbative qu...   \n1        describe new algorithm    k  ell   pebble game...   \n2        evolution earth-moon system described dark mat...   \n3        show determinant stirling cycle number count u...   \n4        paper show compute  lambda  alpha   norm   alp...   \n...                                                    ...   \n2431230  report measurement angular dependence irrevers...   \n2431231  non-linear microwave surface impedance pattern...   \n2431232  vortex contribution dc field  h  dependent mic...   \n2431233  show density state anisotropic superconductor ...   \n2431234  ginzburg landau theory d  x^2-y^2  wave superc...   \n\n                 cleaned_categories  \n0                            hep-ph  \n1                     math.co cs.cg  \n2                    physics.gen-ph  \n3                           math.co  \n4                   math.ca math.fa  \n...                             ...  \n2431230  supr-con cond-mat.supr-con  \n2431231  supr-con cond-mat.supr-con  \n2431232  supr-con cond-mat.supr-con  \n2431233  supr-con cond-mat.supr-con  \n2431234  supr-con cond-mat.supr-con  \n\n[2431235 rows x 3 columns]",
            "text/html": "<div>\n<style scoped>\n    .dataframe tbody tr th:only-of-type {\n        vertical-align: middle;\n    }\n\n    .dataframe tbody tr th {\n        vertical-align: top;\n    }\n\n    .dataframe thead th {\n        text-align: right;\n    }\n</style>\n<table border=\"1\" class=\"dataframe\">\n  <thead>\n    <tr style=\"text-align: right;\">\n      <th></th>\n      <th>cleaned_title</th>\n      <th>cleaned_abstract</th>\n      <th>cleaned_categories</th>\n    </tr>\n  </thead>\n  <tbody>\n    <tr>\n      <th>0</th>\n      <td>calculation prompt diphoton production cross s...</td>\n      <td>fully differential calculation perturbative qu...</td>\n      <td>hep-ph</td>\n    </tr>\n    <tr>\n      <th>1</th>\n      <td>sparsity-certifying graph decomposition</td>\n      <td>describe new algorithm    k  ell   pebble game...</td>\n      <td>math.co cs.cg</td>\n    </tr>\n    <tr>\n      <th>2</th>\n      <td>evolution earth-moon system based dark matter ...</td>\n      <td>evolution earth-moon system described dark mat...</td>\n      <td>physics.gen-ph</td>\n    </tr>\n    <tr>\n      <th>3</th>\n      <td>determinant stirling cycle number count unlabe...</td>\n      <td>show determinant stirling cycle number count u...</td>\n      <td>math.co</td>\n    </tr>\n    <tr>\n      <th>4</th>\n      <td>dyadic  lambda  alpha    lambda  alpha</td>\n      <td>paper show compute  lambda  alpha   norm   alp...</td>\n      <td>math.ca math.fa</td>\n    </tr>\n    <tr>\n      <th>...</th>\n      <td>...</td>\n      <td>...</td>\n      <td>...</td>\n    </tr>\n    <tr>\n      <th>2431230</th>\n      <td>origin irreversibility line thin ybacuo7 film ...</td>\n      <td>report measurement angular dependence irrevers...</td>\n      <td>supr-con cond-mat.supr-con</td>\n    </tr>\n    <tr>\n      <th>2431231</th>\n      <td>nonlinear response htsc thin film microwave re...</td>\n      <td>non-linear microwave surface impedance pattern...</td>\n      <td>supr-con cond-mat.supr-con</td>\n    </tr>\n    <tr>\n      <th>2431232</th>\n      <td>critical state flux penetration linear microwa...</td>\n      <td>vortex contribution dc field  h  dependent mic...</td>\n      <td>supr-con cond-mat.supr-con</td>\n    </tr>\n    <tr>\n      <th>2431233</th>\n      <td>density state nmr relaxation rate anisotropic ...</td>\n      <td>show density state anisotropic superconductor ...</td>\n      <td>supr-con cond-mat.supr-con</td>\n    </tr>\n    <tr>\n      <th>2431234</th>\n      <td>ginzburg landau theory d-wave pairing fourfold...</td>\n      <td>ginzburg landau theory d  x^2-y^2  wave superc...</td>\n      <td>supr-con cond-mat.supr-con</td>\n    </tr>\n  </tbody>\n</table>\n<p>2431235 rows × 3 columns</p>\n</div>"
          },
          "metadata": {}
        }
      ],
      "execution_count": 7,
      "metadata": {
        "jupyter": {
          "source_hidden": false,
          "outputs_hidden": false
        },
        "nteract": {
          "transient": {
            "deleting": false
          }
        },
        "gather": {
          "logged": 1711355375705
        }
      }
    },
    {
      "cell_type": "code",
      "source": [
        "# Clusters\n",
        "kmeans_clusters = kmeans.labels_\n",
        "\n",
        "# Add the cluster labels to the DataFrames\n",
        "df['KMeans_Cluster'] = kmeans_clusters\n",
        "tfidf_matrix['KMeans_Cluster'] = kmeans_clusters"
      ],
      "outputs": [],
      "execution_count": 8,
      "metadata": {
        "jupyter": {
          "source_hidden": false,
          "outputs_hidden": false
        },
        "nteract": {
          "transient": {
            "deleting": false
          }
        },
        "gather": {
          "logged": 1711355376288
        }
      }
    },
    {
      "cell_type": "code",
      "source": [
        "df"
      ],
      "outputs": [
        {
          "output_type": "execute_result",
          "execution_count": 9,
          "data": {
            "text/plain": "                                             cleaned_title  \\\n0        calculation prompt diphoton production cross s...   \n1                  sparsity-certifying graph decomposition   \n2        evolution earth-moon system based dark matter ...   \n3        determinant stirling cycle number count unlabe...   \n4                 dyadic  lambda  alpha    lambda  alpha     \n...                                                    ...   \n2431230  origin irreversibility line thin ybacuo7 film ...   \n2431231  nonlinear response htsc thin film microwave re...   \n2431232  critical state flux penetration linear microwa...   \n2431233  density state nmr relaxation rate anisotropic ...   \n2431234  ginzburg landau theory d-wave pairing fourfold...   \n\n                                          cleaned_abstract  \\\n0        fully differential calculation perturbative qu...   \n1        describe new algorithm    k  ell   pebble game...   \n2        evolution earth-moon system described dark mat...   \n3        show determinant stirling cycle number count u...   \n4        paper show compute  lambda  alpha   norm   alp...   \n...                                                    ...   \n2431230  report measurement angular dependence irrevers...   \n2431231  non-linear microwave surface impedance pattern...   \n2431232  vortex contribution dc field  h  dependent mic...   \n2431233  show density state anisotropic superconductor ...   \n2431234  ginzburg landau theory d  x^2-y^2  wave superc...   \n\n                 cleaned_categories  KMeans_Cluster  \n0                            hep-ph               3  \n1                     math.co cs.cg               2  \n2                    physics.gen-ph               3  \n3                           math.co               0  \n4                   math.ca math.fa               0  \n...                             ...             ...  \n2431230  supr-con cond-mat.supr-con               4  \n2431231  supr-con cond-mat.supr-con               9  \n2431232  supr-con cond-mat.supr-con               4  \n2431233  supr-con cond-mat.supr-con               4  \n2431234  supr-con cond-mat.supr-con               4  \n\n[2431235 rows x 4 columns]",
            "text/html": "<div>\n<style scoped>\n    .dataframe tbody tr th:only-of-type {\n        vertical-align: middle;\n    }\n\n    .dataframe tbody tr th {\n        vertical-align: top;\n    }\n\n    .dataframe thead th {\n        text-align: right;\n    }\n</style>\n<table border=\"1\" class=\"dataframe\">\n  <thead>\n    <tr style=\"text-align: right;\">\n      <th></th>\n      <th>cleaned_title</th>\n      <th>cleaned_abstract</th>\n      <th>cleaned_categories</th>\n      <th>KMeans_Cluster</th>\n    </tr>\n  </thead>\n  <tbody>\n    <tr>\n      <th>0</th>\n      <td>calculation prompt diphoton production cross s...</td>\n      <td>fully differential calculation perturbative qu...</td>\n      <td>hep-ph</td>\n      <td>3</td>\n    </tr>\n    <tr>\n      <th>1</th>\n      <td>sparsity-certifying graph decomposition</td>\n      <td>describe new algorithm    k  ell   pebble game...</td>\n      <td>math.co cs.cg</td>\n      <td>2</td>\n    </tr>\n    <tr>\n      <th>2</th>\n      <td>evolution earth-moon system based dark matter ...</td>\n      <td>evolution earth-moon system described dark mat...</td>\n      <td>physics.gen-ph</td>\n      <td>3</td>\n    </tr>\n    <tr>\n      <th>3</th>\n      <td>determinant stirling cycle number count unlabe...</td>\n      <td>show determinant stirling cycle number count u...</td>\n      <td>math.co</td>\n      <td>0</td>\n    </tr>\n    <tr>\n      <th>4</th>\n      <td>dyadic  lambda  alpha    lambda  alpha</td>\n      <td>paper show compute  lambda  alpha   norm   alp...</td>\n      <td>math.ca math.fa</td>\n      <td>0</td>\n    </tr>\n    <tr>\n      <th>...</th>\n      <td>...</td>\n      <td>...</td>\n      <td>...</td>\n      <td>...</td>\n    </tr>\n    <tr>\n      <th>2431230</th>\n      <td>origin irreversibility line thin ybacuo7 film ...</td>\n      <td>report measurement angular dependence irrevers...</td>\n      <td>supr-con cond-mat.supr-con</td>\n      <td>4</td>\n    </tr>\n    <tr>\n      <th>2431231</th>\n      <td>nonlinear response htsc thin film microwave re...</td>\n      <td>non-linear microwave surface impedance pattern...</td>\n      <td>supr-con cond-mat.supr-con</td>\n      <td>9</td>\n    </tr>\n    <tr>\n      <th>2431232</th>\n      <td>critical state flux penetration linear microwa...</td>\n      <td>vortex contribution dc field  h  dependent mic...</td>\n      <td>supr-con cond-mat.supr-con</td>\n      <td>4</td>\n    </tr>\n    <tr>\n      <th>2431233</th>\n      <td>density state nmr relaxation rate anisotropic ...</td>\n      <td>show density state anisotropic superconductor ...</td>\n      <td>supr-con cond-mat.supr-con</td>\n      <td>4</td>\n    </tr>\n    <tr>\n      <th>2431234</th>\n      <td>ginzburg landau theory d-wave pairing fourfold...</td>\n      <td>ginzburg landau theory d  x^2-y^2  wave superc...</td>\n      <td>supr-con cond-mat.supr-con</td>\n      <td>4</td>\n    </tr>\n  </tbody>\n</table>\n<p>2431235 rows × 4 columns</p>\n</div>"
          },
          "metadata": {}
        }
      ],
      "execution_count": 9,
      "metadata": {
        "jupyter": {
          "source_hidden": false,
          "outputs_hidden": false
        },
        "nteract": {
          "transient": {
            "deleting": false
          }
        },
        "gather": {
          "logged": 1711355376707
        }
      }
    },
    {
      "cell_type": "code",
      "source": [
        "# Save the clustered datasets\n",
        "df.to_csv('df_clustered.csv')\n",
        "tfidf_matrix.to_csv('tfidf_matrix_clustered.csv')"
      ],
      "outputs": [],
      "execution_count": 10,
      "metadata": {
        "jupyter": {
          "source_hidden": false,
          "outputs_hidden": false
        },
        "nteract": {
          "transient": {
            "deleting": false
          }
        },
        "gather": {
          "logged": 1711307755892
        }
      }
    }
  ],
  "metadata": {
    "kernelspec": {
      "name": "python310-sdkv2",
      "language": "python",
      "display_name": "Python 3.10 - SDK v2"
    },
    "language_info": {
      "name": "python",
      "version": "3.10.11",
      "mimetype": "text/x-python",
      "codemirror_mode": {
        "name": "ipython",
        "version": 3
      },
      "pygments_lexer": "ipython3",
      "nbconvert_exporter": "python",
      "file_extension": ".py"
    },
    "microsoft": {
      "ms_spell_check": {
        "ms_spell_check_language": "en"
      },
      "host": {
        "AzureML": {
          "notebookHasBeenCompleted": true
        }
      }
    },
    "kernel_info": {
      "name": "python310-sdkv2"
    },
    "nteract": {
      "version": "nteract-front-end@1.0.0"
    }
  },
  "nbformat": 4,
  "nbformat_minor": 2
}
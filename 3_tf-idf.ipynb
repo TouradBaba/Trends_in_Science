{
  "cells": [
    {
      "cell_type": "code",
      "source": [
        "import pandas as pd\n",
        "\n",
        "df_cleaned = pd.read_csv('df_cleaned2.csv')\n",
        "df_cleaned"
      ],
      "outputs": [
        {
          "output_type": "execute_result",
          "execution_count": 1,
          "data": {
            "text/plain": "         Unnamed: 0                                      cleaned_title  \\\n0                 0  calculation prompt diphoton production cross s...   \n1                 1            sparsity-certifying graph decomposition   \n2                 2  evolution earth-moon system based dark matter ...   \n3                 3  determinant stirling cycle number count unlabe...   \n4                 4           dyadic  lambda  alpha    lambda  alpha     \n...             ...                                                ...   \n2431230     2431230  origin irreversibility line thin ybacuo7 film ...   \n2431231     2431231  nonlinear response htsc thin film microwave re...   \n2431232     2431232  critical state flux penetration linear microwa...   \n2431233     2431233  density state nmr relaxation rate anisotropic ...   \n2431234     2431234  ginzburg landau theory d-wave pairing fourfold...   \n\n                                          cleaned_abstract  \\\n0        fully differential calculation perturbative qu...   \n1        describe new algorithm    k  ell   pebble game...   \n2        evolution earth-moon system described dark mat...   \n3        show determinant stirling cycle number count u...   \n4        paper show compute  lambda  alpha   norm   alp...   \n...                                                    ...   \n2431230  report measurement angular dependence irrevers...   \n2431231  non-linear microwave surface impedance pattern...   \n2431232  vortex contribution dc field  h  dependent mic...   \n2431233  show density state anisotropic superconductor ...   \n2431234  ginzburg landau theory d  x^2-y^2  wave superc...   \n\n                 cleaned_categories  \n0                            hep-ph  \n1                     math.co cs.cg  \n2                    physics.gen-ph  \n3                           math.co  \n4                   math.ca math.fa  \n...                             ...  \n2431230  supr-con cond-mat.supr-con  \n2431231  supr-con cond-mat.supr-con  \n2431232  supr-con cond-mat.supr-con  \n2431233  supr-con cond-mat.supr-con  \n2431234  supr-con cond-mat.supr-con  \n\n[2431235 rows x 4 columns]",
            "text/html": "<div>\n<style scoped>\n    .dataframe tbody tr th:only-of-type {\n        vertical-align: middle;\n    }\n\n    .dataframe tbody tr th {\n        vertical-align: top;\n    }\n\n    .dataframe thead th {\n        text-align: right;\n    }\n</style>\n<table border=\"1\" class=\"dataframe\">\n  <thead>\n    <tr style=\"text-align: right;\">\n      <th></th>\n      <th>Unnamed: 0</th>\n      <th>cleaned_title</th>\n      <th>cleaned_abstract</th>\n      <th>cleaned_categories</th>\n    </tr>\n  </thead>\n  <tbody>\n    <tr>\n      <th>0</th>\n      <td>0</td>\n      <td>calculation prompt diphoton production cross s...</td>\n      <td>fully differential calculation perturbative qu...</td>\n      <td>hep-ph</td>\n    </tr>\n    <tr>\n      <th>1</th>\n      <td>1</td>\n      <td>sparsity-certifying graph decomposition</td>\n      <td>describe new algorithm    k  ell   pebble game...</td>\n      <td>math.co cs.cg</td>\n    </tr>\n    <tr>\n      <th>2</th>\n      <td>2</td>\n      <td>evolution earth-moon system based dark matter ...</td>\n      <td>evolution earth-moon system described dark mat...</td>\n      <td>physics.gen-ph</td>\n    </tr>\n    <tr>\n      <th>3</th>\n      <td>3</td>\n      <td>determinant stirling cycle number count unlabe...</td>\n      <td>show determinant stirling cycle number count u...</td>\n      <td>math.co</td>\n    </tr>\n    <tr>\n      <th>4</th>\n      <td>4</td>\n      <td>dyadic  lambda  alpha    lambda  alpha</td>\n      <td>paper show compute  lambda  alpha   norm   alp...</td>\n      <td>math.ca math.fa</td>\n    </tr>\n    <tr>\n      <th>...</th>\n      <td>...</td>\n      <td>...</td>\n      <td>...</td>\n      <td>...</td>\n    </tr>\n    <tr>\n      <th>2431230</th>\n      <td>2431230</td>\n      <td>origin irreversibility line thin ybacuo7 film ...</td>\n      <td>report measurement angular dependence irrevers...</td>\n      <td>supr-con cond-mat.supr-con</td>\n    </tr>\n    <tr>\n      <th>2431231</th>\n      <td>2431231</td>\n      <td>nonlinear response htsc thin film microwave re...</td>\n      <td>non-linear microwave surface impedance pattern...</td>\n      <td>supr-con cond-mat.supr-con</td>\n    </tr>\n    <tr>\n      <th>2431232</th>\n      <td>2431232</td>\n      <td>critical state flux penetration linear microwa...</td>\n      <td>vortex contribution dc field  h  dependent mic...</td>\n      <td>supr-con cond-mat.supr-con</td>\n    </tr>\n    <tr>\n      <th>2431233</th>\n      <td>2431233</td>\n      <td>density state nmr relaxation rate anisotropic ...</td>\n      <td>show density state anisotropic superconductor ...</td>\n      <td>supr-con cond-mat.supr-con</td>\n    </tr>\n    <tr>\n      <th>2431234</th>\n      <td>2431234</td>\n      <td>ginzburg landau theory d-wave pairing fourfold...</td>\n      <td>ginzburg landau theory d  x^2-y^2  wave superc...</td>\n      <td>supr-con cond-mat.supr-con</td>\n    </tr>\n  </tbody>\n</table>\n<p>2431235 rows × 4 columns</p>\n</div>"
          },
          "metadata": {}
        }
      ],
      "execution_count": 1,
      "metadata": {
        "gather": {
          "logged": 1711270974835
        }
      },
      "id": "96215420-f072-4ae2-bd4f-896763d4c18f"
    },
    {
      "cell_type": "code",
      "source": [
        "# Drop redundant index column\n",
        "df_cleaned.drop('Unnamed: 0', axis =1, inplace = True)"
      ],
      "outputs": [],
      "execution_count": 2,
      "metadata": {
        "gather": {
          "logged": 1711270975028
        }
      },
      "id": "4ce51686-8dda-450f-accb-85e162031b1e"
    },
    {
      "cell_type": "code",
      "source": [
        "from sklearn.feature_extraction.text import TfidfVectorizer\n",
        "\n",
        "\n",
        "# Concatenate 'cleaned_abstract' and 'cleaned_title' columns\n",
        "doc = (df_cleaned['cleaned_abstract'] + ' ' + df_cleaned['cleaned_title'] + ' ' + df_cleaned['cleaned_categories']).astype(\"U\")\n",
        "\n",
        "# Initialize TF-IDF vectorizer\n",
        "tfidf_vectorizer = TfidfVectorizer(max_features=500)\n",
        "\n",
        "# Fit and transform the concatenated text data\n",
        "tfidf_matrix = tfidf_vectorizer.fit_transform(doc)\n",
        "\n",
        "# Convert the TF-IDF matrix into a DataFrame\n",
        "tfidf_df = pd.DataFrame(tfidf_matrix.toarray(), columns=tfidf_vectorizer.get_feature_names_out())\n",
        "\n",
        "# Display the TF-IDF DataFrame\n",
        "tfidf_df.head()"
      ],
      "outputs": [
        {
          "output_type": "execute_result",
          "execution_count": 3,
          "data": {
            "text/plain": "         10   3d  account  accuracy  action  addition  agent   ai  algebra  \\\n0  0.000000  0.0      0.0  0.120878     0.0       0.0    0.0  0.0      0.0   \n1  0.000000  0.0      0.0  0.000000     0.0       0.0    0.0  0.0      0.0   \n2  0.200543  0.0      0.0  0.000000     0.0       0.0    0.0  0.0      0.0   \n3  0.000000  0.0      0.0  0.000000     0.0       0.0    0.0  0.0      0.0   \n4  0.000000  0.0      0.0  0.000000     0.0       0.0    0.0  0.0      0.0   \n\n   algorithm  ...  via  wave  way  weak      well  within  without      work  \\\n0   0.000000  ...  0.0   0.0  0.0   0.0  0.085752     0.0      0.0  0.000000   \n1   0.326318  ...  0.0   0.0  0.0   0.0  0.000000     0.0      0.0  0.097766   \n2   0.000000  ...  0.0   0.0  0.0   0.0  0.077948     0.0      0.0  0.000000   \n3   0.000000  ...  0.0   0.0  0.0   0.0  0.000000     0.0      0.0  0.000000   \n4   0.000000  ...  0.0   0.0  0.0   0.0  0.000000     0.0      0.0  0.000000   \n\n   world  zero  \n0    0.0   0.0  \n1    0.0   0.0  \n2    0.0   0.0  \n3    0.0   0.0  \n4    0.0   0.0  \n\n[5 rows x 500 columns]",
            "text/html": "<div>\n<style scoped>\n    .dataframe tbody tr th:only-of-type {\n        vertical-align: middle;\n    }\n\n    .dataframe tbody tr th {\n        vertical-align: top;\n    }\n\n    .dataframe thead th {\n        text-align: right;\n    }\n</style>\n<table border=\"1\" class=\"dataframe\">\n  <thead>\n    <tr style=\"text-align: right;\">\n      <th></th>\n      <th>10</th>\n      <th>3d</th>\n      <th>account</th>\n      <th>accuracy</th>\n      <th>action</th>\n      <th>addition</th>\n      <th>agent</th>\n      <th>ai</th>\n      <th>algebra</th>\n      <th>algorithm</th>\n      <th>...</th>\n      <th>via</th>\n      <th>wave</th>\n      <th>way</th>\n      <th>weak</th>\n      <th>well</th>\n      <th>within</th>\n      <th>without</th>\n      <th>work</th>\n      <th>world</th>\n      <th>zero</th>\n    </tr>\n  </thead>\n  <tbody>\n    <tr>\n      <th>0</th>\n      <td>0.000000</td>\n      <td>0.0</td>\n      <td>0.0</td>\n      <td>0.120878</td>\n      <td>0.0</td>\n      <td>0.0</td>\n      <td>0.0</td>\n      <td>0.0</td>\n      <td>0.0</td>\n      <td>0.000000</td>\n      <td>...</td>\n      <td>0.0</td>\n      <td>0.0</td>\n      <td>0.0</td>\n      <td>0.0</td>\n      <td>0.085752</td>\n      <td>0.0</td>\n      <td>0.0</td>\n      <td>0.000000</td>\n      <td>0.0</td>\n      <td>0.0</td>\n    </tr>\n    <tr>\n      <th>1</th>\n      <td>0.000000</td>\n      <td>0.0</td>\n      <td>0.0</td>\n      <td>0.000000</td>\n      <td>0.0</td>\n      <td>0.0</td>\n      <td>0.0</td>\n      <td>0.0</td>\n      <td>0.0</td>\n      <td>0.326318</td>\n      <td>...</td>\n      <td>0.0</td>\n      <td>0.0</td>\n      <td>0.0</td>\n      <td>0.0</td>\n      <td>0.000000</td>\n      <td>0.0</td>\n      <td>0.0</td>\n      <td>0.097766</td>\n      <td>0.0</td>\n      <td>0.0</td>\n    </tr>\n    <tr>\n      <th>2</th>\n      <td>0.200543</td>\n      <td>0.0</td>\n      <td>0.0</td>\n      <td>0.000000</td>\n      <td>0.0</td>\n      <td>0.0</td>\n      <td>0.0</td>\n      <td>0.0</td>\n      <td>0.0</td>\n      <td>0.000000</td>\n      <td>...</td>\n      <td>0.0</td>\n      <td>0.0</td>\n      <td>0.0</td>\n      <td>0.0</td>\n      <td>0.077948</td>\n      <td>0.0</td>\n      <td>0.0</td>\n      <td>0.000000</td>\n      <td>0.0</td>\n      <td>0.0</td>\n    </tr>\n    <tr>\n      <th>3</th>\n      <td>0.000000</td>\n      <td>0.0</td>\n      <td>0.0</td>\n      <td>0.000000</td>\n      <td>0.0</td>\n      <td>0.0</td>\n      <td>0.0</td>\n      <td>0.0</td>\n      <td>0.0</td>\n      <td>0.000000</td>\n      <td>...</td>\n      <td>0.0</td>\n      <td>0.0</td>\n      <td>0.0</td>\n      <td>0.0</td>\n      <td>0.000000</td>\n      <td>0.0</td>\n      <td>0.0</td>\n      <td>0.000000</td>\n      <td>0.0</td>\n      <td>0.0</td>\n    </tr>\n    <tr>\n      <th>4</th>\n      <td>0.000000</td>\n      <td>0.0</td>\n      <td>0.0</td>\n      <td>0.000000</td>\n      <td>0.0</td>\n      <td>0.0</td>\n      <td>0.0</td>\n      <td>0.0</td>\n      <td>0.0</td>\n      <td>0.000000</td>\n      <td>...</td>\n      <td>0.0</td>\n      <td>0.0</td>\n      <td>0.0</td>\n      <td>0.0</td>\n      <td>0.000000</td>\n      <td>0.0</td>\n      <td>0.0</td>\n      <td>0.000000</td>\n      <td>0.0</td>\n      <td>0.0</td>\n    </tr>\n  </tbody>\n</table>\n<p>5 rows × 500 columns</p>\n</div>"
          },
          "metadata": {}
        }
      ],
      "execution_count": 3,
      "metadata": {
        "gather": {
          "logged": 1711271159352
        }
      },
      "id": "457bd151-945a-47d7-8127-f2f6f4a10b00"
    },
    {
      "cell_type": "code",
      "source": [
        "# The shape of TF-IDF dataframe \n",
        "tfidf_df.shape"
      ],
      "outputs": [
        {
          "output_type": "execute_result",
          "execution_count": 4,
          "data": {
            "text/plain": "(2431235, 500)"
          },
          "metadata": {}
        }
      ],
      "execution_count": 4,
      "metadata": {
        "gather": {
          "logged": 1711271159672
        }
      },
      "id": "2e89bbe1-0a7a-4cbf-adde-63e81aa1fdc8"
    },
    {
      "cell_type": "code",
      "source": [
        "# Save the TF-IDF dataframe\n",
        "tfidf_df.to_csv('tf_idf.csv')"
      ],
      "outputs": [],
      "execution_count": 5,
      "metadata": {
        "jupyter": {
          "source_hidden": false,
          "outputs_hidden": false
        },
        "nteract": {
          "transient": {
            "deleting": false
          }
        },
        "gather": {
          "logged": 1711271615520
        }
      },
      "id": "6e79a795-2588-47c4-8021-7e27a400b184"
    }
  ],
  "metadata": {
    "kernelspec": {
      "name": "python3",
      "language": "python",
      "display_name": "Python 3 (ipykernel)"
    },
    "language_info": {
      "name": "python",
      "version": "3.8.5",
      "mimetype": "text/x-python",
      "codemirror_mode": {
        "name": "ipython",
        "version": 3
      },
      "pygments_lexer": "ipython3",
      "nbconvert_exporter": "python",
      "file_extension": ".py"
    },
    "microsoft": {
      "ms_spell_check": {
        "ms_spell_check_language": "en"
      },
      "host": {
        "AzureML": {
          "notebookHasBeenCompleted": true
        }
      }
    },
    "kernel_info": {
      "name": "python3"
    },
    "nteract": {
      "version": "nteract-front-end@1.0.0"
    }
  },
  "nbformat": 4,
  "nbformat_minor": 5
}
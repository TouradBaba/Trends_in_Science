{
 "cells": [
  {
   "cell_type": "code",
   "execution_count": 1,
   "id": "d63bd35f-a877-4f6e-a488-cf4029334b25",
   "metadata": {
    "gather": {
     "logged": 1711267228480
    }
   },
   "outputs": [],
   "source": [
    "import pandas as pd"
   ]
  },
  {
   "cell_type": "code",
   "execution_count": 2,
   "id": "b1d1b460-499c-461f-9cc1-f23a75f6738c",
   "metadata": {
    "gather": {
     "logged": 1711267280108
    }
   },
   "outputs": [],
   "source": [
    "# Import the dataset\n",
    "df_cleaned = pd.read_csv('df_cleaned.csv')"
   ]
  },
  {
   "cell_type": "code",
   "execution_count": 3,
   "id": "4ac9a32a-1001-41a9-861e-8a169972223e",
   "metadata": {
    "gather": {
     "logged": 1711267280351
    }
   },
   "outputs": [],
   "source": [
    "# Drop redundant index column\n",
    "df_cleaned.drop('Unnamed: 0', axis =1, inplace = True)"
   ]
  },
  {
   "cell_type": "code",
   "execution_count": 4,
   "id": "fa0dee82-41a0-4480-b927-aa5c7fabf02d",
   "metadata": {
    "gather": {
     "logged": 1711267280620
    }
   },
   "outputs": [
    {
     "data": {
      "text/html": [
       "<div>\n",
       "<style scoped>\n",
       "    .dataframe tbody tr th:only-of-type {\n",
       "        vertical-align: middle;\n",
       "    }\n",
       "\n",
       "    .dataframe tbody tr th {\n",
       "        vertical-align: top;\n",
       "    }\n",
       "\n",
       "    .dataframe thead th {\n",
       "        text-align: right;\n",
       "    }\n",
       "</style>\n",
       "<table border=\"1\" class=\"dataframe\">\n",
       "  <thead>\n",
       "    <tr style=\"text-align: right;\">\n",
       "      <th></th>\n",
       "      <th>title</th>\n",
       "      <th>categories</th>\n",
       "      <th>abstract</th>\n",
       "    </tr>\n",
       "  </thead>\n",
       "  <tbody>\n",
       "    <tr>\n",
       "      <th>0</th>\n",
       "      <td>Calculation of prompt diphoton production cros...</td>\n",
       "      <td>hep-ph</td>\n",
       "      <td>A fully differential calculation in perturba...</td>\n",
       "    </tr>\n",
       "    <tr>\n",
       "      <th>1</th>\n",
       "      <td>Sparsity-certifying Graph Decompositions</td>\n",
       "      <td>math.CO cs.CG</td>\n",
       "      <td>We describe a new algorithm, the $(k,\\ell)$-...</td>\n",
       "    </tr>\n",
       "    <tr>\n",
       "      <th>2</th>\n",
       "      <td>The evolution of the Earth-Moon system based o...</td>\n",
       "      <td>physics.gen-ph</td>\n",
       "      <td>The evolution of Earth-Moon system is descri...</td>\n",
       "    </tr>\n",
       "    <tr>\n",
       "      <th>3</th>\n",
       "      <td>A determinant of Stirling cycle numbers counts...</td>\n",
       "      <td>math.CO</td>\n",
       "      <td>We show that a determinant of Stirling cycle...</td>\n",
       "    </tr>\n",
       "    <tr>\n",
       "      <th>4</th>\n",
       "      <td>From dyadic $\\Lambda_{\\alpha}$ to $\\Lambda_{\\a...</td>\n",
       "      <td>math.CA math.FA</td>\n",
       "      <td>In this paper we show how to compute the $\\L...</td>\n",
       "    </tr>\n",
       "  </tbody>\n",
       "</table>\n",
       "</div>"
      ],
      "text/plain": [
       "                                               title       categories  \\\n",
       "0  Calculation of prompt diphoton production cros...           hep-ph   \n",
       "1           Sparsity-certifying Graph Decompositions    math.CO cs.CG   \n",
       "2  The evolution of the Earth-Moon system based o...   physics.gen-ph   \n",
       "3  A determinant of Stirling cycle numbers counts...          math.CO   \n",
       "4  From dyadic $\\Lambda_{\\alpha}$ to $\\Lambda_{\\a...  math.CA math.FA   \n",
       "\n",
       "                                            abstract  \n",
       "0    A fully differential calculation in perturba...  \n",
       "1    We describe a new algorithm, the $(k,\\ell)$-...  \n",
       "2    The evolution of Earth-Moon system is descri...  \n",
       "3    We show that a determinant of Stirling cycle...  \n",
       "4    In this paper we show how to compute the $\\L...  "
      ]
     },
     "execution_count": 4,
     "metadata": {},
     "output_type": "execute_result"
    }
   ],
   "source": [
    "df_cleaned.head()"
   ]
  },
  {
   "cell_type": "code",
   "execution_count": 5,
   "id": "32b6f7a9-bff9-4bcc-a3ba-7324d6b00781",
   "metadata": {
    "gather": {
     "logged": 1711270618101
    }
   },
   "outputs": [
    {
     "name": "stderr",
     "output_type": "stream",
     "text": [
      "[nltk_data] Downloading package punkt to /home/azureuser/nltk_data...\n",
      "[nltk_data]   Package punkt is already up-to-date!\n",
      "[nltk_data] Downloading package wordnet to\n",
      "[nltk_data]     /home/azureuser/nltk_data...\n",
      "[nltk_data]   Package wordnet is already up-to-date!\n",
      "[nltk_data] Downloading package stopwords to\n",
      "[nltk_data]     /home/azureuser/nltk_data...\n",
      "[nltk_data]   Package stopwords is already up-to-date!\n"
     ]
    },
    {
     "data": {
      "application/vnd.jupyter.widget-view+json": {
       "model_id": "3bd01e60d01748999341ad616a8e6c4d",
       "version_major": 2,
       "version_minor": 0
      },
      "text/plain": [
       "Pandas Apply:   0%|          | 0/2431235 [00:00<?, ?it/s]"
      ]
     },
     "metadata": {},
     "output_type": "display_data"
    },
    {
     "data": {
      "application/vnd.jupyter.widget-view+json": {
       "model_id": "ad221393c5e04491bb8adbdde1c54f62",
       "version_major": 2,
       "version_minor": 0
      },
      "text/plain": [
       "Pandas Apply:   0%|          | 0/2431235 [00:00<?, ?it/s]"
      ]
     },
     "metadata": {},
     "output_type": "display_data"
    }
   ],
   "source": [
    "import string\n",
    "import nltk\n",
    "from nltk.corpus import stopwords\n",
    "from nltk.tokenize import word_tokenize\n",
    "from nltk.stem import WordNetLemmatizer\n",
    "import swifter\n",
    "\n",
    "nltk.download('punkt')\n",
    "nltk.download('wordnet')\n",
    "nltk.download('stopwords')\n",
    "\n",
    "# Initialize WordNet Lemmatizer\n",
    "lemmatizer = WordNetLemmatizer()\n",
    "\n",
    "# Define stop words\n",
    "stop_words = set(stopwords.words('english'))\n",
    "\n",
    "# Define function for text preprocessing\n",
    "def preprocess_text(text):\n",
    "    # Tokenize the text\n",
    "    words = word_tokenize(text)\n",
    "    # Lowercasing, removing punctuation, special characters, stop words, and lemmatization\n",
    "    words = [lemmatizer.lemmatize(word.lower().strip(string.punctuation)) \n",
    "             for word in words if word.lower() not in stop_words]\n",
    "    # Join words back into a single string\n",
    "    preprocessed_text = ' '.join(words)\n",
    "    return preprocessed_text\n",
    "\n",
    "\n",
    "def lowercase_categories(categories):\n",
    "    # Lowercase the categories\n",
    "    categories_lower = categories.lower()\n",
    "    return categories_lower\n",
    "\n",
    "\n",
    "# Apply text preprocessing to 'abstract' column using swifter\n",
    "df_cleaned['cleaned_abstract'] = df_cleaned['abstract'].swifter.apply(preprocess_text)\n",
    "df_cleaned['cleaned_title'] = df_cleaned['title'].swifter.apply(preprocess_text)\n",
    "\n",
    "# Lowercase 'categories' column\n",
    "df_cleaned['cleaned_categories'] = df_cleaned['categories'].swifter.apply(lowercase_categories)"
   ]
  },
  {
   "cell_type": "code",
   "execution_count": 6,
   "id": "7ec6fa2f-a061-40db-a718-f944c4033c42",
   "metadata": {
    "gather": {
     "logged": 1711270618410
    }
   },
   "outputs": [
    {
     "data": {
      "text/html": [
       "<div>\n",
       "<style scoped>\n",
       "    .dataframe tbody tr th:only-of-type {\n",
       "        vertical-align: middle;\n",
       "    }\n",
       "\n",
       "    .dataframe tbody tr th {\n",
       "        vertical-align: top;\n",
       "    }\n",
       "\n",
       "    .dataframe thead th {\n",
       "        text-align: right;\n",
       "    }\n",
       "</style>\n",
       "<table border=\"1\" class=\"dataframe\">\n",
       "  <thead>\n",
       "    <tr style=\"text-align: right;\">\n",
       "      <th></th>\n",
       "      <th>title</th>\n",
       "      <th>categories</th>\n",
       "      <th>abstract</th>\n",
       "      <th>cleaned_abstract</th>\n",
       "      <th>cleaned_title</th>\n",
       "      <th>cleaned_categories</th>\n",
       "    </tr>\n",
       "  </thead>\n",
       "  <tbody>\n",
       "    <tr>\n",
       "      <th>0</th>\n",
       "      <td>Calculation of prompt diphoton production cros...</td>\n",
       "      <td>hep-ph</td>\n",
       "      <td>A fully differential calculation in perturba...</td>\n",
       "      <td>fully differential calculation perturbative qu...</td>\n",
       "      <td>calculation prompt diphoton production cross s...</td>\n",
       "      <td>hep-ph</td>\n",
       "    </tr>\n",
       "    <tr>\n",
       "      <th>1</th>\n",
       "      <td>Sparsity-certifying Graph Decompositions</td>\n",
       "      <td>math.CO cs.CG</td>\n",
       "      <td>We describe a new algorithm, the $(k,\\ell)$-...</td>\n",
       "      <td>describe new algorithm    k  ell   pebble game...</td>\n",
       "      <td>sparsity-certifying graph decomposition</td>\n",
       "      <td>math.co cs.cg</td>\n",
       "    </tr>\n",
       "    <tr>\n",
       "      <th>2</th>\n",
       "      <td>The evolution of the Earth-Moon system based o...</td>\n",
       "      <td>physics.gen-ph</td>\n",
       "      <td>The evolution of Earth-Moon system is descri...</td>\n",
       "      <td>evolution earth-moon system described dark mat...</td>\n",
       "      <td>evolution earth-moon system based dark matter ...</td>\n",
       "      <td>physics.gen-ph</td>\n",
       "    </tr>\n",
       "    <tr>\n",
       "      <th>3</th>\n",
       "      <td>A determinant of Stirling cycle numbers counts...</td>\n",
       "      <td>math.CO</td>\n",
       "      <td>We show that a determinant of Stirling cycle...</td>\n",
       "      <td>show determinant stirling cycle number count u...</td>\n",
       "      <td>determinant stirling cycle number count unlabe...</td>\n",
       "      <td>math.co</td>\n",
       "    </tr>\n",
       "    <tr>\n",
       "      <th>4</th>\n",
       "      <td>From dyadic $\\Lambda_{\\alpha}$ to $\\Lambda_{\\a...</td>\n",
       "      <td>math.CA math.FA</td>\n",
       "      <td>In this paper we show how to compute the $\\L...</td>\n",
       "      <td>paper show compute  lambda  alpha   norm   alp...</td>\n",
       "      <td>dyadic  lambda  alpha    lambda  alpha</td>\n",
       "      <td>math.ca math.fa</td>\n",
       "    </tr>\n",
       "    <tr>\n",
       "      <th>...</th>\n",
       "      <td>...</td>\n",
       "      <td>...</td>\n",
       "      <td>...</td>\n",
       "      <td>...</td>\n",
       "      <td>...</td>\n",
       "      <td>...</td>\n",
       "    </tr>\n",
       "    <tr>\n",
       "      <th>2431230</th>\n",
       "      <td>On the origin of the irreversibility line in t...</td>\n",
       "      <td>supr-con cond-mat.supr-con</td>\n",
       "      <td>We report on measurements of the angular dep...</td>\n",
       "      <td>report measurement angular dependence irrevers...</td>\n",
       "      <td>origin irreversibility line thin ybacuo7 film ...</td>\n",
       "      <td>supr-con cond-mat.supr-con</td>\n",
       "    </tr>\n",
       "    <tr>\n",
       "      <th>2431231</th>\n",
       "      <td>Nonlinear Response of HTSC Thin Film Microwave...</td>\n",
       "      <td>supr-con cond-mat.supr-con</td>\n",
       "      <td>The non-linear microwave surface impedance o...</td>\n",
       "      <td>non-linear microwave surface impedance pattern...</td>\n",
       "      <td>nonlinear response htsc thin film microwave re...</td>\n",
       "      <td>supr-con cond-mat.supr-con</td>\n",
       "    </tr>\n",
       "    <tr>\n",
       "      <th>2431232</th>\n",
       "      <td>Critical State Flux Penetration and Linear Mic...</td>\n",
       "      <td>supr-con cond-mat.supr-con</td>\n",
       "      <td>The vortex contribution to the dc field (H) ...</td>\n",
       "      <td>vortex contribution dc field  h  dependent mic...</td>\n",
       "      <td>critical state flux penetration linear microwa...</td>\n",
       "      <td>supr-con cond-mat.supr-con</td>\n",
       "    </tr>\n",
       "    <tr>\n",
       "      <th>2431233</th>\n",
       "      <td>Density of States and NMR Relaxation Rate in A...</td>\n",
       "      <td>supr-con cond-mat.supr-con</td>\n",
       "      <td>We show that the density of states in an ani...</td>\n",
       "      <td>show density state anisotropic superconductor ...</td>\n",
       "      <td>density state nmr relaxation rate anisotropic ...</td>\n",
       "      <td>supr-con cond-mat.supr-con</td>\n",
       "    </tr>\n",
       "    <tr>\n",
       "      <th>2431234</th>\n",
       "      <td>Ginzburg Landau theory for d-wave pairing and ...</td>\n",
       "      <td>supr-con cond-mat.supr-con</td>\n",
       "      <td>The Ginzburg Landau theory for d_{x^2-y^2}-w...</td>\n",
       "      <td>ginzburg landau theory d  x^2-y^2  wave superc...</td>\n",
       "      <td>ginzburg landau theory d-wave pairing fourfold...</td>\n",
       "      <td>supr-con cond-mat.supr-con</td>\n",
       "    </tr>\n",
       "  </tbody>\n",
       "</table>\n",
       "<p>2431235 rows × 6 columns</p>\n",
       "</div>"
      ],
      "text/plain": [
       "                                                     title  \\\n",
       "0        Calculation of prompt diphoton production cros...   \n",
       "1                 Sparsity-certifying Graph Decompositions   \n",
       "2        The evolution of the Earth-Moon system based o...   \n",
       "3        A determinant of Stirling cycle numbers counts...   \n",
       "4        From dyadic $\\Lambda_{\\alpha}$ to $\\Lambda_{\\a...   \n",
       "...                                                    ...   \n",
       "2431230  On the origin of the irreversibility line in t...   \n",
       "2431231  Nonlinear Response of HTSC Thin Film Microwave...   \n",
       "2431232  Critical State Flux Penetration and Linear Mic...   \n",
       "2431233  Density of States and NMR Relaxation Rate in A...   \n",
       "2431234  Ginzburg Landau theory for d-wave pairing and ...   \n",
       "\n",
       "                         categories  \\\n",
       "0                            hep-ph   \n",
       "1                     math.CO cs.CG   \n",
       "2                    physics.gen-ph   \n",
       "3                           math.CO   \n",
       "4                   math.CA math.FA   \n",
       "...                             ...   \n",
       "2431230  supr-con cond-mat.supr-con   \n",
       "2431231  supr-con cond-mat.supr-con   \n",
       "2431232  supr-con cond-mat.supr-con   \n",
       "2431233  supr-con cond-mat.supr-con   \n",
       "2431234  supr-con cond-mat.supr-con   \n",
       "\n",
       "                                                  abstract  \\\n",
       "0          A fully differential calculation in perturba...   \n",
       "1          We describe a new algorithm, the $(k,\\ell)$-...   \n",
       "2          The evolution of Earth-Moon system is descri...   \n",
       "3          We show that a determinant of Stirling cycle...   \n",
       "4          In this paper we show how to compute the $\\L...   \n",
       "...                                                    ...   \n",
       "2431230    We report on measurements of the angular dep...   \n",
       "2431231    The non-linear microwave surface impedance o...   \n",
       "2431232    The vortex contribution to the dc field (H) ...   \n",
       "2431233    We show that the density of states in an ani...   \n",
       "2431234    The Ginzburg Landau theory for d_{x^2-y^2}-w...   \n",
       "\n",
       "                                          cleaned_abstract  \\\n",
       "0        fully differential calculation perturbative qu...   \n",
       "1        describe new algorithm    k  ell   pebble game...   \n",
       "2        evolution earth-moon system described dark mat...   \n",
       "3        show determinant stirling cycle number count u...   \n",
       "4        paper show compute  lambda  alpha   norm   alp...   \n",
       "...                                                    ...   \n",
       "2431230  report measurement angular dependence irrevers...   \n",
       "2431231  non-linear microwave surface impedance pattern...   \n",
       "2431232  vortex contribution dc field  h  dependent mic...   \n",
       "2431233  show density state anisotropic superconductor ...   \n",
       "2431234  ginzburg landau theory d  x^2-y^2  wave superc...   \n",
       "\n",
       "                                             cleaned_title  \\\n",
       "0        calculation prompt diphoton production cross s...   \n",
       "1                  sparsity-certifying graph decomposition   \n",
       "2        evolution earth-moon system based dark matter ...   \n",
       "3        determinant stirling cycle number count unlabe...   \n",
       "4                 dyadic  lambda  alpha    lambda  alpha     \n",
       "...                                                    ...   \n",
       "2431230  origin irreversibility line thin ybacuo7 film ...   \n",
       "2431231  nonlinear response htsc thin film microwave re...   \n",
       "2431232  critical state flux penetration linear microwa...   \n",
       "2431233  density state nmr relaxation rate anisotropic ...   \n",
       "2431234  ginzburg landau theory d-wave pairing fourfold...   \n",
       "\n",
       "                 cleaned_categories  \n",
       "0                            hep-ph  \n",
       "1                     math.co cs.cg  \n",
       "2                    physics.gen-ph  \n",
       "3                           math.co  \n",
       "4                   math.ca math.fa  \n",
       "...                             ...  \n",
       "2431230  supr-con cond-mat.supr-con  \n",
       "2431231  supr-con cond-mat.supr-con  \n",
       "2431232  supr-con cond-mat.supr-con  \n",
       "2431233  supr-con cond-mat.supr-con  \n",
       "2431234  supr-con cond-mat.supr-con  \n",
       "\n",
       "[2431235 rows x 6 columns]"
      ]
     },
     "execution_count": 6,
     "metadata": {},
     "output_type": "execute_result"
    }
   ],
   "source": [
    "# Visualize the cleaned dataset\n",
    "df_cleaned"
   ]
  },
  {
   "cell_type": "code",
   "execution_count": 7,
   "id": "259eef9b-007a-40d3-a18c-4df68f7cf006",
   "metadata": {
    "gather": {
     "logged": 1711270663189
    }
   },
   "outputs": [],
   "source": [
    "# Save a dataset that contain only the cleaned features\n",
    "df_cleaned = df_cleaned[['cleaned_title', 'cleaned_abstract', 'cleaned_categories']]\n",
    "df_cleaned.to_csv('df_cleaned2.csv')"
   ]
  }
 ],
 "metadata": {
  "kernel_info": {
   "name": "python3"
  },
  "kernelspec": {
   "display_name": "Python 3 (ipykernel)",
   "language": "python",
   "name": "python3"
  },
  "language_info": {
   "codemirror_mode": {
    "name": "ipython",
    "version": 3
   },
   "file_extension": ".py",
   "mimetype": "text/x-python",
   "name": "python",
   "nbconvert_exporter": "python",
   "pygments_lexer": "ipython3",
   "version": "3.11.7"
  },
  "microsoft": {
   "host": {
    "AzureML": {
     "notebookHasBeenCompleted": true
    }
   },
   "ms_spell_check": {
    "ms_spell_check_language": "en"
   }
  },
  "nteract": {
   "version": "nteract-front-end@1.0.0"
  }
 },
 "nbformat": 4,
 "nbformat_minor": 5
}
